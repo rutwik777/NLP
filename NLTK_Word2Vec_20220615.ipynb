{
  "nbformat": 4,
  "nbformat_minor": 0,
  "metadata": {
    "colab": {
      "name": "NLTK-Word2Vec_20220615.ipynb",
      "provenance": [],
      "collapsed_sections": []
    },
    "kernelspec": {
      "name": "python3",
      "display_name": "Python 3"
    },
    "language_info": {
      "name": "python"
    }
  },
  "cells": [
    {
      "cell_type": "code",
      "execution_count": null,
      "metadata": {
        "colab": {
          "base_uri": "https://localhost:8080/"
        },
        "id": "adXzMaNQA_T9",
        "outputId": "dc59705c-8d00-4d85-b632-1a29b7bef151"
      },
      "outputs": [
        {
          "output_type": "stream",
          "name": "stderr",
          "text": [
            "[nltk_data] Downloading package punkt to /root/nltk_data...\n",
            "[nltk_data]   Unzipping tokenizers/punkt.zip.\n",
            "[nltk_data] Downloading package stopwords to /root/nltk_data...\n",
            "[nltk_data]   Unzipping corpora/stopwords.zip.\n"
          ]
        },
        {
          "output_type": "execute_result",
          "data": {
            "text/plain": [
              "True"
            ]
          },
          "metadata": {},
          "execution_count": 1
        }
      ],
      "source": [
        "import nltk\n",
        "from gensim.models import Word2Vec\n",
        "from nltk.corpus import stopwords\n",
        "import re\n",
        "nltk.download('punkt')\n",
        "nltk.download('stopwords')"
      ]
    },
    {
      "cell_type": "code",
      "source": [
        "paragraph = \"Cause dried no solid no an small so still widen. Ten weather evident smiling bed against she examine its. Rendered far opinions two yet moderate sex striking. Sufficient motionless compliment by stimulated assistance at. Convinced resolving extensive agreeable in it on as remainder. Cordially say affection met who propriety him. Are man she towards private weather pleased. In more part he lose need so want rank no. At bringing or he sensible pleasure. Prevent he parlors do waiting be females an message society. Advantage old had otherwise sincerity dependent additions. It in adapted natural hastily is justice. Six draw you him full not mean evil. Prepare garrets it expense windows shewing do an. She projection advantages resolution son indulgence. Part sure on no long life am at ever. In songs above he as drawn to. Gay was outlived peculiar rendered led six. Why painful the sixteen how minuter looking nor. Subject but why ten earnest husband imagine sixteen brandon. Are unpleasing occasional celebrated motionless unaffected conviction out. Evil make to no five they. Stuff at avoid of sense small fully it whose an. Ten scarcely distance moreover handsome age although. As when have find fine or said no mile. He in dispatched in imprudence dissimilar be possession unreserved insensible. She evil face fine calm have now. Separate screened he outweigh of distance landlord. Sense child do state to defer mr of forty. Become latter but nor abroad wisdom waited. Was delivered gentleman acuteness but daughters. In as of whole as match asked. Pleasure exertion put add entrance distance drawings. In equally matters showing greatly it as. Want name any wise are able park when. Saw vicinity judgment remember finished men throwing. Exquisite cordially mr happiness of neglected distrusts. Boisterous impossible unaffected he me everything. Is fine loud deal an rent open give. Find upon and sent spot song son eyes. Do endeavor he differed carriage is learning my graceful. Feel plan know is he like on pure. See burst found sir met think hopes are marry among. Delightful remarkably new assistance saw literature mrs favourable. Sportsman do offending supported extremity breakfast by listening. Decisively advantages nor expression unpleasing she led met. Estate was tended ten boy nearer seemed. As so seeing latter he should thirty whence. Steepest speaking up attended it as. Made neat an on be gave show snug tore. Acceptance middletons me if discretion boisterous travelling an. She prosperous continuing entreaties companions unreserved you boisterous. Middleton sportsmen sir now cordially ask additions for. You ten occasional saw everything but conviction. Daughter returned quitting few are day advanced branched. Do enjoyment defective objection or we if favourite. At wonder afford so danger cannot former seeing. Power visit charm money add heard new other put. Attended no indulged marriage is to judgment offering landlord. Do commanded an shameless we disposing do. Indulgence ten remarkably nor are impression out. Power is lived means oh every in we quiet. Remainder provision an in intention. Saw supported too joy promotion engrossed propriety. Me till like it sure no sons.\""
      ],
      "metadata": {
        "id": "GK7qHV4OBMWx"
      },
      "execution_count": null,
      "outputs": []
    },
    {
      "cell_type": "code",
      "source": [
        "sentenses = nltk.sent_tokenize(paragraph)\n",
        "sentenses"
      ],
      "metadata": {
        "colab": {
          "base_uri": "https://localhost:8080/"
        },
        "id": "5xON1gmCC19P",
        "outputId": "a77ea638-6a57-4336-a640-00734b3505bc"
      },
      "execution_count": null,
      "outputs": [
        {
          "output_type": "execute_result",
          "data": {
            "text/plain": [
              "['Cause dried no solid no an small so still widen.',\n",
              " 'Ten weather evident smiling bed against she examine its.',\n",
              " 'Rendered far opinions two yet moderate sex striking.',\n",
              " 'Sufficient motionless compliment by stimulated assistance at.',\n",
              " 'Convinced resolving extensive agreeable in it on as remainder.',\n",
              " 'Cordially say affection met who propriety him.',\n",
              " 'Are man she towards private weather pleased.',\n",
              " 'In more part he lose need so want rank no.',\n",
              " 'At bringing or he sensible pleasure.',\n",
              " 'Prevent he parlors do waiting be females an message society.',\n",
              " 'Advantage old had otherwise sincerity dependent additions.',\n",
              " 'It in adapted natural hastily is justice.',\n",
              " 'Six draw you him full not mean evil.',\n",
              " 'Prepare garrets it expense windows shewing do an.',\n",
              " 'She projection advantages resolution son indulgence.',\n",
              " 'Part sure on no long life am at ever.',\n",
              " 'In songs above he as drawn to.',\n",
              " 'Gay was outlived peculiar rendered led six.',\n",
              " 'Why painful the sixteen how minuter looking nor.',\n",
              " 'Subject but why ten earnest husband imagine sixteen brandon.',\n",
              " 'Are unpleasing occasional celebrated motionless unaffected conviction out.',\n",
              " 'Evil make to no five they.',\n",
              " 'Stuff at avoid of sense small fully it whose an.',\n",
              " 'Ten scarcely distance moreover handsome age although.',\n",
              " 'As when have find fine or said no mile.',\n",
              " 'He in dispatched in imprudence dissimilar be possession unreserved insensible.',\n",
              " 'She evil face fine calm have now.',\n",
              " 'Separate screened he outweigh of distance landlord.',\n",
              " 'Sense child do state to defer mr of forty.',\n",
              " 'Become latter but nor abroad wisdom waited.',\n",
              " 'Was delivered gentleman acuteness but daughters.',\n",
              " 'In as of whole as match asked.',\n",
              " 'Pleasure exertion put add entrance distance drawings.',\n",
              " 'In equally matters showing greatly it as.',\n",
              " 'Want name any wise are able park when.',\n",
              " 'Saw vicinity judgment remember finished men throwing.',\n",
              " 'Exquisite cordially mr happiness of neglected distrusts.',\n",
              " 'Boisterous impossible unaffected he me everything.',\n",
              " 'Is fine loud deal an rent open give.',\n",
              " 'Find upon and sent spot song son eyes.',\n",
              " 'Do endeavor he differed carriage is learning my graceful.',\n",
              " 'Feel plan know is he like on pure.',\n",
              " 'See burst found sir met think hopes are marry among.',\n",
              " 'Delightful remarkably new assistance saw literature mrs favourable.',\n",
              " 'Sportsman do offending supported extremity breakfast by listening.',\n",
              " 'Decisively advantages nor expression unpleasing she led met.',\n",
              " 'Estate was tended ten boy nearer seemed.',\n",
              " 'As so seeing latter he should thirty whence.',\n",
              " 'Steepest speaking up attended it as.',\n",
              " 'Made neat an on be gave show snug tore.',\n",
              " 'Acceptance middletons me if discretion boisterous travelling an.',\n",
              " 'She prosperous continuing entreaties companions unreserved you boisterous.',\n",
              " 'Middleton sportsmen sir now cordially ask additions for.',\n",
              " 'You ten occasional saw everything but conviction.',\n",
              " 'Daughter returned quitting few are day advanced branched.',\n",
              " 'Do enjoyment defective objection or we if favourite.',\n",
              " 'At wonder afford so danger cannot former seeing.',\n",
              " 'Power visit charm money add heard new other put.',\n",
              " 'Attended no indulged marriage is to judgment offering landlord.',\n",
              " 'Do commanded an shameless we disposing do.',\n",
              " 'Indulgence ten remarkably nor are impression out.',\n",
              " 'Power is lived means oh every in we quiet.',\n",
              " 'Remainder provision an in intention.',\n",
              " 'Saw supported too joy promotion engrossed propriety.',\n",
              " 'Me till like it sure no sons.']"
            ]
          },
          "metadata": {},
          "execution_count": 3
        }
      ]
    },
    {
      "cell_type": "code",
      "source": [
        "# Preprocessing the text"
      ],
      "metadata": {
        "id": "fen13YbWD0FJ"
      },
      "execution_count": null,
      "outputs": []
    },
    {
      "cell_type": "code",
      "source": [
        "text = re.sub(r'\\[[0-9]*\\]',' ', paragraph)\n",
        "text"
      ],
      "metadata": {
        "colab": {
          "base_uri": "https://localhost:8080/",
          "height": 123
        },
        "id": "ZDlEsiMdD_Dx",
        "outputId": "a8381402-4a7b-419f-8e16-8d764364e5a6"
      },
      "execution_count": null,
      "outputs": [
        {
          "output_type": "execute_result",
          "data": {
            "text/plain": [
              "'Cause dried no solid no an small so still widen. Ten weather evident smiling bed against she examine its. Rendered far opinions two yet moderate sex striking. Sufficient motionless compliment by stimulated assistance at. Convinced resolving extensive agreeable in it on as remainder. Cordially say affection met who propriety him. Are man she towards private weather pleased. In more part he lose need so want rank no. At bringing or he sensible pleasure. Prevent he parlors do waiting be females an message society. Advantage old had otherwise sincerity dependent additions. It in adapted natural hastily is justice. Six draw you him full not mean evil. Prepare garrets it expense windows shewing do an. She projection advantages resolution son indulgence. Part sure on no long life am at ever. In songs above he as drawn to. Gay was outlived peculiar rendered led six. Why painful the sixteen how minuter looking nor. Subject but why ten earnest husband imagine sixteen brandon. Are unpleasing occasional celebrated motionless unaffected conviction out. Evil make to no five they. Stuff at avoid of sense small fully it whose an. Ten scarcely distance moreover handsome age although. As when have find fine or said no mile. He in dispatched in imprudence dissimilar be possession unreserved insensible. She evil face fine calm have now. Separate screened he outweigh of distance landlord. Sense child do state to defer mr of forty. Become latter but nor abroad wisdom waited. Was delivered gentleman acuteness but daughters. In as of whole as match asked. Pleasure exertion put add entrance distance drawings. In equally matters showing greatly it as. Want name any wise are able park when. Saw vicinity judgment remember finished men throwing. Exquisite cordially mr happiness of neglected distrusts. Boisterous impossible unaffected he me everything. Is fine loud deal an rent open give. Find upon and sent spot song son eyes. Do endeavor he differed carriage is learning my graceful. Feel plan know is he like on pure. See burst found sir met think hopes are marry among. Delightful remarkably new assistance saw literature mrs favourable. Sportsman do offending supported extremity breakfast by listening. Decisively advantages nor expression unpleasing she led met. Estate was tended ten boy nearer seemed. As so seeing latter he should thirty whence. Steepest speaking up attended it as. Made neat an on be gave show snug tore. Acceptance middletons me if discretion boisterous travelling an. She prosperous continuing entreaties companions unreserved you boisterous. Middleton sportsmen sir now cordially ask additions for. You ten occasional saw everything but conviction. Daughter returned quitting few are day advanced branched. Do enjoyment defective objection or we if favourite. At wonder afford so danger cannot former seeing. Power visit charm money add heard new other put. Attended no indulged marriage is to judgment offering landlord. Do commanded an shameless we disposing do. Indulgence ten remarkably nor are impression out. Power is lived means oh every in we quiet. Remainder provision an in intention. Saw supported too joy promotion engrossed propriety. Me till like it sure no sons.'"
            ],
            "application/vnd.google.colaboratory.intrinsic+json": {
              "type": "string"
            }
          },
          "metadata": {},
          "execution_count": 5
        }
      ]
    },
    {
      "cell_type": "code",
      "source": [
        "text = re.sub(r'\\s+',' ', text)\n",
        "text"
      ],
      "metadata": {
        "colab": {
          "base_uri": "https://localhost:8080/",
          "height": 123
        },
        "id": "H6AVDG1bEL9J",
        "outputId": "767616d8-5ed8-4d62-e05e-bdfe8b5a7a18"
      },
      "execution_count": null,
      "outputs": [
        {
          "output_type": "execute_result",
          "data": {
            "text/plain": [
              "'Cause dried no solid no an small so still widen. Ten weather evident smiling bed against she examine its. Rendered far opinions two yet moderate sex striking. Sufficient motionless compliment by stimulated assistance at. Convinced resolving extensive agreeable in it on as remainder. Cordially say affection met who propriety him. Are man she towards private weather pleased. In more part he lose need so want rank no. At bringing or he sensible pleasure. Prevent he parlors do waiting be females an message society. Advantage old had otherwise sincerity dependent additions. It in adapted natural hastily is justice. Six draw you him full not mean evil. Prepare garrets it expense windows shewing do an. She projection advantages resolution son indulgence. Part sure on no long life am at ever. In songs above he as drawn to. Gay was outlived peculiar rendered led six. Why painful the sixteen how minuter looking nor. Subject but why ten earnest husband imagine sixteen brandon. Are unpleasing occasional celebrated motionless unaffected conviction out. Evil make to no five they. Stuff at avoid of sense small fully it whose an. Ten scarcely distance moreover handsome age although. As when have find fine or said no mile. He in dispatched in imprudence dissimilar be possession unreserved insensible. She evil face fine calm have now. Separate screened he outweigh of distance landlord. Sense child do state to defer mr of forty. Become latter but nor abroad wisdom waited. Was delivered gentleman acuteness but daughters. In as of whole as match asked. Pleasure exertion put add entrance distance drawings. In equally matters showing greatly it as. Want name any wise are able park when. Saw vicinity judgment remember finished men throwing. Exquisite cordially mr happiness of neglected distrusts. Boisterous impossible unaffected he me everything. Is fine loud deal an rent open give. Find upon and sent spot song son eyes. Do endeavor he differed carriage is learning my graceful. Feel plan know is he like on pure. See burst found sir met think hopes are marry among. Delightful remarkably new assistance saw literature mrs favourable. Sportsman do offending supported extremity breakfast by listening. Decisively advantages nor expression unpleasing she led met. Estate was tended ten boy nearer seemed. As so seeing latter he should thirty whence. Steepest speaking up attended it as. Made neat an on be gave show snug tore. Acceptance middletons me if discretion boisterous travelling an. She prosperous continuing entreaties companions unreserved you boisterous. Middleton sportsmen sir now cordially ask additions for. You ten occasional saw everything but conviction. Daughter returned quitting few are day advanced branched. Do enjoyment defective objection or we if favourite. At wonder afford so danger cannot former seeing. Power visit charm money add heard new other put. Attended no indulged marriage is to judgment offering landlord. Do commanded an shameless we disposing do. Indulgence ten remarkably nor are impression out. Power is lived means oh every in we quiet. Remainder provision an in intention. Saw supported too joy promotion engrossed propriety. Me till like it sure no sons.'"
            ],
            "application/vnd.google.colaboratory.intrinsic+json": {
              "type": "string"
            }
          },
          "metadata": {},
          "execution_count": 6
        }
      ]
    },
    {
      "cell_type": "code",
      "source": [
        "text=text.lower()\n",
        "text"
      ],
      "metadata": {
        "colab": {
          "base_uri": "https://localhost:8080/",
          "height": 123
        },
        "id": "UBVFOVesFTqW",
        "outputId": "f9bc3eab-7d9e-48fc-b739-0a7393576af8"
      },
      "execution_count": null,
      "outputs": [
        {
          "output_type": "execute_result",
          "data": {
            "text/plain": [
              "'cause dried no solid no an small so still widen. ten weather evident smiling bed against she examine its. rendered far opinions two yet moderate sex striking. sufficient motionless compliment by stimulated assistance at. convinced resolving extensive agreeable in it on as remainder. cordially say affection met who propriety him. are man she towards private weather pleased. in more part he lose need so want rank no. at bringing or he sensible pleasure. prevent he parlors do waiting be females an message society. advantage old had otherwise sincerity dependent additions. it in adapted natural hastily is justice. six draw you him full not mean evil. prepare garrets it expense windows shewing do an. she projection advantages resolution son indulgence. part sure on no long life am at ever. in songs above he as drawn to. gay was outlived peculiar rendered led six. why painful the sixteen how minuter looking nor. subject but why ten earnest husband imagine sixteen brandon. are unpleasing occasional celebrated motionless unaffected conviction out. evil make to no five they. stuff at avoid of sense small fully it whose an. ten scarcely distance moreover handsome age although. as when have find fine or said no mile. he in dispatched in imprudence dissimilar be possession unreserved insensible. she evil face fine calm have now. separate screened he outweigh of distance landlord. sense child do state to defer mr of forty. become latter but nor abroad wisdom waited. was delivered gentleman acuteness but daughters. in as of whole as match asked. pleasure exertion put add entrance distance drawings. in equally matters showing greatly it as. want name any wise are able park when. saw vicinity judgment remember finished men throwing. exquisite cordially mr happiness of neglected distrusts. boisterous impossible unaffected he me everything. is fine loud deal an rent open give. find upon and sent spot song son eyes. do endeavor he differed carriage is learning my graceful. feel plan know is he like on pure. see burst found sir met think hopes are marry among. delightful remarkably new assistance saw literature mrs favourable. sportsman do offending supported extremity breakfast by listening. decisively advantages nor expression unpleasing she led met. estate was tended ten boy nearer seemed. as so seeing latter he should thirty whence. steepest speaking up attended it as. made neat an on be gave show snug tore. acceptance middletons me if discretion boisterous travelling an. she prosperous continuing entreaties companions unreserved you boisterous. middleton sportsmen sir now cordially ask additions for. you ten occasional saw everything but conviction. daughter returned quitting few are day advanced branched. do enjoyment defective objection or we if favourite. at wonder afford so danger cannot former seeing. power visit charm money add heard new other put. attended no indulged marriage is to judgment offering landlord. do commanded an shameless we disposing do. indulgence ten remarkably nor are impression out. power is lived means oh every in we quiet. remainder provision an in intention. saw supported too joy promotion engrossed propriety. me till like it sure no sons.'"
            ],
            "application/vnd.google.colaboratory.intrinsic+json": {
              "type": "string"
            }
          },
          "metadata": {},
          "execution_count": 7
        }
      ]
    },
    {
      "cell_type": "code",
      "source": [
        "text = re.sub(r'\\d', ' ' ,text)\n",
        "text"
      ],
      "metadata": {
        "colab": {
          "base_uri": "https://localhost:8080/",
          "height": 123
        },
        "id": "WbtDHrdGFZiY",
        "outputId": "9ab09940-986e-4664-a27c-0684f8c6270e"
      },
      "execution_count": null,
      "outputs": [
        {
          "output_type": "execute_result",
          "data": {
            "text/plain": [
              "'cause dried no solid no an small so still widen. ten weather evident smiling bed against she examine its. rendered far opinions two yet moderate sex striking. sufficient motionless compliment by stimulated assistance at. convinced resolving extensive agreeable in it on as remainder. cordially say affection met who propriety him. are man she towards private weather pleased. in more part he lose need so want rank no. at bringing or he sensible pleasure. prevent he parlors do waiting be females an message society. advantage old had otherwise sincerity dependent additions. it in adapted natural hastily is justice. six draw you him full not mean evil. prepare garrets it expense windows shewing do an. she projection advantages resolution son indulgence. part sure on no long life am at ever. in songs above he as drawn to. gay was outlived peculiar rendered led six. why painful the sixteen how minuter looking nor. subject but why ten earnest husband imagine sixteen brandon. are unpleasing occasional celebrated motionless unaffected conviction out. evil make to no five they. stuff at avoid of sense small fully it whose an. ten scarcely distance moreover handsome age although. as when have find fine or said no mile. he in dispatched in imprudence dissimilar be possession unreserved insensible. she evil face fine calm have now. separate screened he outweigh of distance landlord. sense child do state to defer mr of forty. become latter but nor abroad wisdom waited. was delivered gentleman acuteness but daughters. in as of whole as match asked. pleasure exertion put add entrance distance drawings. in equally matters showing greatly it as. want name any wise are able park when. saw vicinity judgment remember finished men throwing. exquisite cordially mr happiness of neglected distrusts. boisterous impossible unaffected he me everything. is fine loud deal an rent open give. find upon and sent spot song son eyes. do endeavor he differed carriage is learning my graceful. feel plan know is he like on pure. see burst found sir met think hopes are marry among. delightful remarkably new assistance saw literature mrs favourable. sportsman do offending supported extremity breakfast by listening. decisively advantages nor expression unpleasing she led met. estate was tended ten boy nearer seemed. as so seeing latter he should thirty whence. steepest speaking up attended it as. made neat an on be gave show snug tore. acceptance middletons me if discretion boisterous travelling an. she prosperous continuing entreaties companions unreserved you boisterous. middleton sportsmen sir now cordially ask additions for. you ten occasional saw everything but conviction. daughter returned quitting few are day advanced branched. do enjoyment defective objection or we if favourite. at wonder afford so danger cannot former seeing. power visit charm money add heard new other put. attended no indulged marriage is to judgment offering landlord. do commanded an shameless we disposing do. indulgence ten remarkably nor are impression out. power is lived means oh every in we quiet. remainder provision an in intention. saw supported too joy promotion engrossed propriety. me till like it sure no sons.'"
            ],
            "application/vnd.google.colaboratory.intrinsic+json": {
              "type": "string"
            }
          },
          "metadata": {},
          "execution_count": 8
        }
      ]
    },
    {
      "cell_type": "code",
      "source": [
        "text = re.sub(r'\\s+', ' ', text)\n",
        "text"
      ],
      "metadata": {
        "colab": {
          "base_uri": "https://localhost:8080/",
          "height": 123
        },
        "id": "4Z7fxWwiFgjf",
        "outputId": "c07df5d6-e686-4df7-d35e-c18484aff49e"
      },
      "execution_count": null,
      "outputs": [
        {
          "output_type": "execute_result",
          "data": {
            "text/plain": [
              "'cause dried no solid no an small so still widen. ten weather evident smiling bed against she examine its. rendered far opinions two yet moderate sex striking. sufficient motionless compliment by stimulated assistance at. convinced resolving extensive agreeable in it on as remainder. cordially say affection met who propriety him. are man she towards private weather pleased. in more part he lose need so want rank no. at bringing or he sensible pleasure. prevent he parlors do waiting be females an message society. advantage old had otherwise sincerity dependent additions. it in adapted natural hastily is justice. six draw you him full not mean evil. prepare garrets it expense windows shewing do an. she projection advantages resolution son indulgence. part sure on no long life am at ever. in songs above he as drawn to. gay was outlived peculiar rendered led six. why painful the sixteen how minuter looking nor. subject but why ten earnest husband imagine sixteen brandon. are unpleasing occasional celebrated motionless unaffected conviction out. evil make to no five they. stuff at avoid of sense small fully it whose an. ten scarcely distance moreover handsome age although. as when have find fine or said no mile. he in dispatched in imprudence dissimilar be possession unreserved insensible. she evil face fine calm have now. separate screened he outweigh of distance landlord. sense child do state to defer mr of forty. become latter but nor abroad wisdom waited. was delivered gentleman acuteness but daughters. in as of whole as match asked. pleasure exertion put add entrance distance drawings. in equally matters showing greatly it as. want name any wise are able park when. saw vicinity judgment remember finished men throwing. exquisite cordially mr happiness of neglected distrusts. boisterous impossible unaffected he me everything. is fine loud deal an rent open give. find upon and sent spot song son eyes. do endeavor he differed carriage is learning my graceful. feel plan know is he like on pure. see burst found sir met think hopes are marry among. delightful remarkably new assistance saw literature mrs favourable. sportsman do offending supported extremity breakfast by listening. decisively advantages nor expression unpleasing she led met. estate was tended ten boy nearer seemed. as so seeing latter he should thirty whence. steepest speaking up attended it as. made neat an on be gave show snug tore. acceptance middletons me if discretion boisterous travelling an. she prosperous continuing entreaties companions unreserved you boisterous. middleton sportsmen sir now cordially ask additions for. you ten occasional saw everything but conviction. daughter returned quitting few are day advanced branched. do enjoyment defective objection or we if favourite. at wonder afford so danger cannot former seeing. power visit charm money add heard new other put. attended no indulged marriage is to judgment offering landlord. do commanded an shameless we disposing do. indulgence ten remarkably nor are impression out. power is lived means oh every in we quiet. remainder provision an in intention. saw supported too joy promotion engrossed propriety. me till like it sure no sons.'"
            ],
            "application/vnd.google.colaboratory.intrinsic+json": {
              "type": "string"
            }
          },
          "metadata": {},
          "execution_count": 9
        }
      ]
    },
    {
      "cell_type": "code",
      "source": [
        "sentenses_1 = nltk.sent_tokenize(text)\n",
        "sentenses_1"
      ],
      "metadata": {
        "colab": {
          "base_uri": "https://localhost:8080/"
        },
        "id": "M6bCtO4xFyKI",
        "outputId": "c59dddb2-a776-4c34-83a2-d19834e3bbfa"
      },
      "execution_count": null,
      "outputs": [
        {
          "output_type": "execute_result",
          "data": {
            "text/plain": [
              "['cause dried no solid no an small so still widen.',\n",
              " 'ten weather evident smiling bed against she examine its.',\n",
              " 'rendered far opinions two yet moderate sex striking.',\n",
              " 'sufficient motionless compliment by stimulated assistance at.',\n",
              " 'convinced resolving extensive agreeable in it on as remainder.',\n",
              " 'cordially say affection met who propriety him.',\n",
              " 'are man she towards private weather pleased.',\n",
              " 'in more part he lose need so want rank no.',\n",
              " 'at bringing or he sensible pleasure.',\n",
              " 'prevent he parlors do waiting be females an message society.',\n",
              " 'advantage old had otherwise sincerity dependent additions.',\n",
              " 'it in adapted natural hastily is justice.',\n",
              " 'six draw you him full not mean evil.',\n",
              " 'prepare garrets it expense windows shewing do an.',\n",
              " 'she projection advantages resolution son indulgence.',\n",
              " 'part sure on no long life am at ever.',\n",
              " 'in songs above he as drawn to.',\n",
              " 'gay was outlived peculiar rendered led six.',\n",
              " 'why painful the sixteen how minuter looking nor.',\n",
              " 'subject but why ten earnest husband imagine sixteen brandon.',\n",
              " 'are unpleasing occasional celebrated motionless unaffected conviction out.',\n",
              " 'evil make to no five they.',\n",
              " 'stuff at avoid of sense small fully it whose an.',\n",
              " 'ten scarcely distance moreover handsome age although.',\n",
              " 'as when have find fine or said no mile.',\n",
              " 'he in dispatched in imprudence dissimilar be possession unreserved insensible.',\n",
              " 'she evil face fine calm have now.',\n",
              " 'separate screened he outweigh of distance landlord.',\n",
              " 'sense child do state to defer mr of forty.',\n",
              " 'become latter but nor abroad wisdom waited.',\n",
              " 'was delivered gentleman acuteness but daughters.',\n",
              " 'in as of whole as match asked.',\n",
              " 'pleasure exertion put add entrance distance drawings.',\n",
              " 'in equally matters showing greatly it as.',\n",
              " 'want name any wise are able park when.',\n",
              " 'saw vicinity judgment remember finished men throwing.',\n",
              " 'exquisite cordially mr happiness of neglected distrusts.',\n",
              " 'boisterous impossible unaffected he me everything.',\n",
              " 'is fine loud deal an rent open give.',\n",
              " 'find upon and sent spot song son eyes.',\n",
              " 'do endeavor he differed carriage is learning my graceful.',\n",
              " 'feel plan know is he like on pure.',\n",
              " 'see burst found sir met think hopes are marry among.',\n",
              " 'delightful remarkably new assistance saw literature mrs favourable.',\n",
              " 'sportsman do offending supported extremity breakfast by listening.',\n",
              " 'decisively advantages nor expression unpleasing she led met.',\n",
              " 'estate was tended ten boy nearer seemed.',\n",
              " 'as so seeing latter he should thirty whence.',\n",
              " 'steepest speaking up attended it as.',\n",
              " 'made neat an on be gave show snug tore.',\n",
              " 'acceptance middletons me if discretion boisterous travelling an.',\n",
              " 'she prosperous continuing entreaties companions unreserved you boisterous.',\n",
              " 'middleton sportsmen sir now cordially ask additions for.',\n",
              " 'you ten occasional saw everything but conviction.',\n",
              " 'daughter returned quitting few are day advanced branched.',\n",
              " 'do enjoyment defective objection or we if favourite.',\n",
              " 'at wonder afford so danger cannot former seeing.',\n",
              " 'power visit charm money add heard new other put.',\n",
              " 'attended no indulged marriage is to judgment offering landlord.',\n",
              " 'do commanded an shameless we disposing do.',\n",
              " 'indulgence ten remarkably nor are impression out.',\n",
              " 'power is lived means oh every in we quiet.',\n",
              " 'remainder provision an in intention.',\n",
              " 'saw supported too joy promotion engrossed propriety.',\n",
              " 'me till like it sure no sons.']"
            ]
          },
          "metadata": {},
          "execution_count": 10
        }
      ]
    },
    {
      "cell_type": "code",
      "source": [
        "sentenses_1 = [nltk.word_tokenize(word) for word in sentenses_1]"
      ],
      "metadata": {
        "id": "P8InRQMGGdVN"
      },
      "execution_count": null,
      "outputs": []
    },
    {
      "cell_type": "code",
      "source": [
        "sentenses_1"
      ],
      "metadata": {
        "colab": {
          "base_uri": "https://localhost:8080/"
        },
        "id": "dQT43G6xHQf5",
        "outputId": "b6783012-2186-4001-b829-a6e2f237d52f"
      },
      "execution_count": null,
      "outputs": [
        {
          "output_type": "execute_result",
          "data": {
            "text/plain": [
              "[['cause',\n",
              "  'dried',\n",
              "  'no',\n",
              "  'solid',\n",
              "  'no',\n",
              "  'an',\n",
              "  'small',\n",
              "  'so',\n",
              "  'still',\n",
              "  'widen',\n",
              "  '.'],\n",
              " ['ten',\n",
              "  'weather',\n",
              "  'evident',\n",
              "  'smiling',\n",
              "  'bed',\n",
              "  'against',\n",
              "  'she',\n",
              "  'examine',\n",
              "  'its',\n",
              "  '.'],\n",
              " ['rendered',\n",
              "  'far',\n",
              "  'opinions',\n",
              "  'two',\n",
              "  'yet',\n",
              "  'moderate',\n",
              "  'sex',\n",
              "  'striking',\n",
              "  '.'],\n",
              " ['sufficient',\n",
              "  'motionless',\n",
              "  'compliment',\n",
              "  'by',\n",
              "  'stimulated',\n",
              "  'assistance',\n",
              "  'at',\n",
              "  '.'],\n",
              " ['convinced',\n",
              "  'resolving',\n",
              "  'extensive',\n",
              "  'agreeable',\n",
              "  'in',\n",
              "  'it',\n",
              "  'on',\n",
              "  'as',\n",
              "  'remainder',\n",
              "  '.'],\n",
              " ['cordially', 'say', 'affection', 'met', 'who', 'propriety', 'him', '.'],\n",
              " ['are', 'man', 'she', 'towards', 'private', 'weather', 'pleased', '.'],\n",
              " ['in', 'more', 'part', 'he', 'lose', 'need', 'so', 'want', 'rank', 'no', '.'],\n",
              " ['at', 'bringing', 'or', 'he', 'sensible', 'pleasure', '.'],\n",
              " ['prevent',\n",
              "  'he',\n",
              "  'parlors',\n",
              "  'do',\n",
              "  'waiting',\n",
              "  'be',\n",
              "  'females',\n",
              "  'an',\n",
              "  'message',\n",
              "  'society',\n",
              "  '.'],\n",
              " ['advantage',\n",
              "  'old',\n",
              "  'had',\n",
              "  'otherwise',\n",
              "  'sincerity',\n",
              "  'dependent',\n",
              "  'additions',\n",
              "  '.'],\n",
              " ['it', 'in', 'adapted', 'natural', 'hastily', 'is', 'justice', '.'],\n",
              " ['six', 'draw', 'you', 'him', 'full', 'not', 'mean', 'evil', '.'],\n",
              " ['prepare',\n",
              "  'garrets',\n",
              "  'it',\n",
              "  'expense',\n",
              "  'windows',\n",
              "  'shewing',\n",
              "  'do',\n",
              "  'an',\n",
              "  '.'],\n",
              " ['she', 'projection', 'advantages', 'resolution', 'son', 'indulgence', '.'],\n",
              " ['part', 'sure', 'on', 'no', 'long', 'life', 'am', 'at', 'ever', '.'],\n",
              " ['in', 'songs', 'above', 'he', 'as', 'drawn', 'to', '.'],\n",
              " ['gay', 'was', 'outlived', 'peculiar', 'rendered', 'led', 'six', '.'],\n",
              " ['why', 'painful', 'the', 'sixteen', 'how', 'minuter', 'looking', 'nor', '.'],\n",
              " ['subject',\n",
              "  'but',\n",
              "  'why',\n",
              "  'ten',\n",
              "  'earnest',\n",
              "  'husband',\n",
              "  'imagine',\n",
              "  'sixteen',\n",
              "  'brandon',\n",
              "  '.'],\n",
              " ['are',\n",
              "  'unpleasing',\n",
              "  'occasional',\n",
              "  'celebrated',\n",
              "  'motionless',\n",
              "  'unaffected',\n",
              "  'conviction',\n",
              "  'out',\n",
              "  '.'],\n",
              " ['evil', 'make', 'to', 'no', 'five', 'they', '.'],\n",
              " ['stuff',\n",
              "  'at',\n",
              "  'avoid',\n",
              "  'of',\n",
              "  'sense',\n",
              "  'small',\n",
              "  'fully',\n",
              "  'it',\n",
              "  'whose',\n",
              "  'an',\n",
              "  '.'],\n",
              " ['ten',\n",
              "  'scarcely',\n",
              "  'distance',\n",
              "  'moreover',\n",
              "  'handsome',\n",
              "  'age',\n",
              "  'although',\n",
              "  '.'],\n",
              " ['as', 'when', 'have', 'find', 'fine', 'or', 'said', 'no', 'mile', '.'],\n",
              " ['he',\n",
              "  'in',\n",
              "  'dispatched',\n",
              "  'in',\n",
              "  'imprudence',\n",
              "  'dissimilar',\n",
              "  'be',\n",
              "  'possession',\n",
              "  'unreserved',\n",
              "  'insensible',\n",
              "  '.'],\n",
              " ['she', 'evil', 'face', 'fine', 'calm', 'have', 'now', '.'],\n",
              " ['separate', 'screened', 'he', 'outweigh', 'of', 'distance', 'landlord', '.'],\n",
              " ['sense', 'child', 'do', 'state', 'to', 'defer', 'mr', 'of', 'forty', '.'],\n",
              " ['become', 'latter', 'but', 'nor', 'abroad', 'wisdom', 'waited', '.'],\n",
              " ['was', 'delivered', 'gentleman', 'acuteness', 'but', 'daughters', '.'],\n",
              " ['in', 'as', 'of', 'whole', 'as', 'match', 'asked', '.'],\n",
              " ['pleasure',\n",
              "  'exertion',\n",
              "  'put',\n",
              "  'add',\n",
              "  'entrance',\n",
              "  'distance',\n",
              "  'drawings',\n",
              "  '.'],\n",
              " ['in', 'equally', 'matters', 'showing', 'greatly', 'it', 'as', '.'],\n",
              " ['want', 'name', 'any', 'wise', 'are', 'able', 'park', 'when', '.'],\n",
              " ['saw',\n",
              "  'vicinity',\n",
              "  'judgment',\n",
              "  'remember',\n",
              "  'finished',\n",
              "  'men',\n",
              "  'throwing',\n",
              "  '.'],\n",
              " ['exquisite',\n",
              "  'cordially',\n",
              "  'mr',\n",
              "  'happiness',\n",
              "  'of',\n",
              "  'neglected',\n",
              "  'distrusts',\n",
              "  '.'],\n",
              " ['boisterous', 'impossible', 'unaffected', 'he', 'me', 'everything', '.'],\n",
              " ['is', 'fine', 'loud', 'deal', 'an', 'rent', 'open', 'give', '.'],\n",
              " ['find', 'upon', 'and', 'sent', 'spot', 'song', 'son', 'eyes', '.'],\n",
              " ['do',\n",
              "  'endeavor',\n",
              "  'he',\n",
              "  'differed',\n",
              "  'carriage',\n",
              "  'is',\n",
              "  'learning',\n",
              "  'my',\n",
              "  'graceful',\n",
              "  '.'],\n",
              " ['feel', 'plan', 'know', 'is', 'he', 'like', 'on', 'pure', '.'],\n",
              " ['see',\n",
              "  'burst',\n",
              "  'found',\n",
              "  'sir',\n",
              "  'met',\n",
              "  'think',\n",
              "  'hopes',\n",
              "  'are',\n",
              "  'marry',\n",
              "  'among',\n",
              "  '.'],\n",
              " ['delightful',\n",
              "  'remarkably',\n",
              "  'new',\n",
              "  'assistance',\n",
              "  'saw',\n",
              "  'literature',\n",
              "  'mrs',\n",
              "  'favourable',\n",
              "  '.'],\n",
              " ['sportsman',\n",
              "  'do',\n",
              "  'offending',\n",
              "  'supported',\n",
              "  'extremity',\n",
              "  'breakfast',\n",
              "  'by',\n",
              "  'listening',\n",
              "  '.'],\n",
              " ['decisively',\n",
              "  'advantages',\n",
              "  'nor',\n",
              "  'expression',\n",
              "  'unpleasing',\n",
              "  'she',\n",
              "  'led',\n",
              "  'met',\n",
              "  '.'],\n",
              " ['estate', 'was', 'tended', 'ten', 'boy', 'nearer', 'seemed', '.'],\n",
              " ['as', 'so', 'seeing', 'latter', 'he', 'should', 'thirty', 'whence', '.'],\n",
              " ['steepest', 'speaking', 'up', 'attended', 'it', 'as', '.'],\n",
              " ['made', 'neat', 'an', 'on', 'be', 'gave', 'show', 'snug', 'tore', '.'],\n",
              " ['acceptance',\n",
              "  'middletons',\n",
              "  'me',\n",
              "  'if',\n",
              "  'discretion',\n",
              "  'boisterous',\n",
              "  'travelling',\n",
              "  'an',\n",
              "  '.'],\n",
              " ['she',\n",
              "  'prosperous',\n",
              "  'continuing',\n",
              "  'entreaties',\n",
              "  'companions',\n",
              "  'unreserved',\n",
              "  'you',\n",
              "  'boisterous',\n",
              "  '.'],\n",
              " ['middleton',\n",
              "  'sportsmen',\n",
              "  'sir',\n",
              "  'now',\n",
              "  'cordially',\n",
              "  'ask',\n",
              "  'additions',\n",
              "  'for',\n",
              "  '.'],\n",
              " ['you', 'ten', 'occasional', 'saw', 'everything', 'but', 'conviction', '.'],\n",
              " ['daughter',\n",
              "  'returned',\n",
              "  'quitting',\n",
              "  'few',\n",
              "  'are',\n",
              "  'day',\n",
              "  'advanced',\n",
              "  'branched',\n",
              "  '.'],\n",
              " ['do',\n",
              "  'enjoyment',\n",
              "  'defective',\n",
              "  'objection',\n",
              "  'or',\n",
              "  'we',\n",
              "  'if',\n",
              "  'favourite',\n",
              "  '.'],\n",
              " ['at',\n",
              "  'wonder',\n",
              "  'afford',\n",
              "  'so',\n",
              "  'danger',\n",
              "  'can',\n",
              "  'not',\n",
              "  'former',\n",
              "  'seeing',\n",
              "  '.'],\n",
              " ['power',\n",
              "  'visit',\n",
              "  'charm',\n",
              "  'money',\n",
              "  'add',\n",
              "  'heard',\n",
              "  'new',\n",
              "  'other',\n",
              "  'put',\n",
              "  '.'],\n",
              " ['attended',\n",
              "  'no',\n",
              "  'indulged',\n",
              "  'marriage',\n",
              "  'is',\n",
              "  'to',\n",
              "  'judgment',\n",
              "  'offering',\n",
              "  'landlord',\n",
              "  '.'],\n",
              " ['do', 'commanded', 'an', 'shameless', 'we', 'disposing', 'do', '.'],\n",
              " ['indulgence', 'ten', 'remarkably', 'nor', 'are', 'impression', 'out', '.'],\n",
              " ['power', 'is', 'lived', 'means', 'oh', 'every', 'in', 'we', 'quiet', '.'],\n",
              " ['remainder', 'provision', 'an', 'in', 'intention', '.'],\n",
              " ['saw',\n",
              "  'supported',\n",
              "  'too',\n",
              "  'joy',\n",
              "  'promotion',\n",
              "  'engrossed',\n",
              "  'propriety',\n",
              "  '.'],\n",
              " ['me', 'till', 'like', 'it', 'sure', 'no', 'sons', '.']]"
            ]
          },
          "metadata": {},
          "execution_count": 12
        }
      ]
    },
    {
      "cell_type": "code",
      "source": [
        "for i in range(len(sentenses_1)):\n",
        "  sentenses_1[i] = [word for word in sentenses_1[i] if word not in stopwords.words('english')]"
      ],
      "metadata": {
        "id": "xPyNyZivHey3"
      },
      "execution_count": null,
      "outputs": []
    },
    {
      "cell_type": "code",
      "source": [
        "model = Word2Vec(sentenses_1, min_count=1)"
      ],
      "metadata": {
        "id": "g9BShUVUH1Ew"
      },
      "execution_count": null,
      "outputs": []
    },
    {
      "cell_type": "code",
      "source": [
        "words = model.wv.vocab"
      ],
      "metadata": {
        "id": "byKpnVLSIPL8"
      },
      "execution_count": null,
      "outputs": []
    },
    {
      "cell_type": "code",
      "source": [
        "words"
      ],
      "metadata": {
        "colab": {
          "base_uri": "https://localhost:8080/"
        },
        "id": "P3gT7yD8LKxb",
        "outputId": "77f65d84-de64-4863-bac8-adce9a13d796"
      },
      "execution_count": null,
      "outputs": [
        {
          "output_type": "execute_result",
          "data": {
            "text/plain": [
              "{'.': <gensim.models.keyedvectors.Vocab at 0x7f9386754ad0>,\n",
              " 'able': <gensim.models.keyedvectors.Vocab at 0x7f9386700ed0>,\n",
              " 'abroad': <gensim.models.keyedvectors.Vocab at 0x7f9386700a90>,\n",
              " 'acceptance': <gensim.models.keyedvectors.Vocab at 0x7f9386709210>,\n",
              " 'acuteness': <gensim.models.keyedvectors.Vocab at 0x7f9386700910>,\n",
              " 'adapted': <gensim.models.keyedvectors.Vocab at 0x7f9386777250>,\n",
              " 'add': <gensim.models.keyedvectors.Vocab at 0x7f9386700b90>,\n",
              " 'additions': <gensim.models.keyedvectors.Vocab at 0x7f9386772110>,\n",
              " 'advanced': <gensim.models.keyedvectors.Vocab at 0x7f93867095d0>,\n",
              " 'advantage': <gensim.models.keyedvectors.Vocab at 0x7f93868f6a10>,\n",
              " 'advantages': <gensim.models.keyedvectors.Vocab at 0x7f9386777650>,\n",
              " 'affection': <gensim.models.keyedvectors.Vocab at 0x7f938677aed0>,\n",
              " 'afford': <gensim.models.keyedvectors.Vocab at 0x7f9386709790>,\n",
              " 'age': <gensim.models.keyedvectors.Vocab at 0x7f93867795d0>,\n",
              " 'agreeable': <gensim.models.keyedvectors.Vocab at 0x7f938677ab90>,\n",
              " 'although': <gensim.models.keyedvectors.Vocab at 0x7f9386779fd0>,\n",
              " 'among': <gensim.models.keyedvectors.Vocab at 0x7f93867069d0>,\n",
              " 'ask': <gensim.models.keyedvectors.Vocab at 0x7f9386709490>,\n",
              " 'asked': <gensim.models.keyedvectors.Vocab at 0x7f9386700b50>,\n",
              " 'assistance': <gensim.models.keyedvectors.Vocab at 0x7f938677aa90>,\n",
              " 'attended': <gensim.models.keyedvectors.Vocab at 0x7f9386709050>,\n",
              " 'avoid': <gensim.models.keyedvectors.Vocab at 0x7f938676f0d0>,\n",
              " 'become': <gensim.models.keyedvectors.Vocab at 0x7f9386700cd0>,\n",
              " 'bed': <gensim.models.keyedvectors.Vocab at 0x7f9386754650>,\n",
              " 'boisterous': <gensim.models.keyedvectors.Vocab at 0x7f9386706250>,\n",
              " 'boy': <gensim.models.keyedvectors.Vocab at 0x7f9386706e10>,\n",
              " 'branched': <gensim.models.keyedvectors.Vocab at 0x7f9386709610>,\n",
              " 'brandon': <gensim.models.keyedvectors.Vocab at 0x7f938675b790>,\n",
              " 'breakfast': <gensim.models.keyedvectors.Vocab at 0x7f9386706c90>,\n",
              " 'bringing': <gensim.models.keyedvectors.Vocab at 0x7f938676a210>,\n",
              " 'burst': <gensim.models.keyedvectors.Vocab at 0x7f9386706850>,\n",
              " 'calm': <gensim.models.keyedvectors.Vocab at 0x7f93867796d0>,\n",
              " 'carriage': <gensim.models.keyedvectors.Vocab at 0x7f9386706610>,\n",
              " 'cause': <gensim.models.keyedvectors.Vocab at 0x7f9386754ed0>,\n",
              " 'celebrated': <gensim.models.keyedvectors.Vocab at 0x7f938676f2d0>,\n",
              " 'charm': <gensim.models.keyedvectors.Vocab at 0x7f93867098d0>,\n",
              " 'child': <gensim.models.keyedvectors.Vocab at 0x7f9386700290>,\n",
              " 'commanded': <gensim.models.keyedvectors.Vocab at 0x7f938677d1d0>,\n",
              " 'companions': <gensim.models.keyedvectors.Vocab at 0x7f93867093d0>,\n",
              " 'compliment': <gensim.models.keyedvectors.Vocab at 0x7f938677a810>,\n",
              " 'continuing': <gensim.models.keyedvectors.Vocab at 0x7f9386709350>,\n",
              " 'conviction': <gensim.models.keyedvectors.Vocab at 0x7f938676f050>,\n",
              " 'convinced': <gensim.models.keyedvectors.Vocab at 0x7f938677a090>,\n",
              " 'cordially': <gensim.models.keyedvectors.Vocab at 0x7f938677a590>,\n",
              " 'danger': <gensim.models.keyedvectors.Vocab at 0x7f93867097d0>,\n",
              " 'daughter': <gensim.models.keyedvectors.Vocab at 0x7f93867094d0>,\n",
              " 'daughters': <gensim.models.keyedvectors.Vocab at 0x7f9386700dd0>,\n",
              " 'day': <gensim.models.keyedvectors.Vocab at 0x7f9386709590>,\n",
              " 'deal': <gensim.models.keyedvectors.Vocab at 0x7f9386706350>,\n",
              " 'decisively': <gensim.models.keyedvectors.Vocab at 0x7f9386706d10>,\n",
              " 'defective': <gensim.models.keyedvectors.Vocab at 0x7f9386709690>,\n",
              " 'defer': <gensim.models.keyedvectors.Vocab at 0x7f93867000d0>,\n",
              " 'delightful': <gensim.models.keyedvectors.Vocab at 0x7f9386706a10>,\n",
              " 'delivered': <gensim.models.keyedvectors.Vocab at 0x7f9386700790>,\n",
              " 'dependent': <gensim.models.keyedvectors.Vocab at 0x7f9386772150>,\n",
              " 'differed': <gensim.models.keyedvectors.Vocab at 0x7f93867065d0>,\n",
              " 'discretion': <gensim.models.keyedvectors.Vocab at 0x7f9386709290>,\n",
              " 'dispatched': <gensim.models.keyedvectors.Vocab at 0x7f9386779450>,\n",
              " 'disposing': <gensim.models.keyedvectors.Vocab at 0x7f938677d850>,\n",
              " 'dissimilar': <gensim.models.keyedvectors.Vocab at 0x7f9386779590>,\n",
              " 'distance': <gensim.models.keyedvectors.Vocab at 0x7f9386779250>,\n",
              " 'distrusts': <gensim.models.keyedvectors.Vocab at 0x7f9386706210>,\n",
              " 'draw': <gensim.models.keyedvectors.Vocab at 0x7f9386777050>,\n",
              " 'drawings': <gensim.models.keyedvectors.Vocab at 0x7f9386700c50>,\n",
              " 'drawn': <gensim.models.keyedvectors.Vocab at 0x7f9386d93c10>,\n",
              " 'dried': <gensim.models.keyedvectors.Vocab at 0x7f9386754890>,\n",
              " 'earnest': <gensim.models.keyedvectors.Vocab at 0x7f938675b950>,\n",
              " 'endeavor': <gensim.models.keyedvectors.Vocab at 0x7f9386706590>,\n",
              " 'engrossed': <gensim.models.keyedvectors.Vocab at 0x7f938677d2d0>,\n",
              " 'enjoyment': <gensim.models.keyedvectors.Vocab at 0x7f9386709650>,\n",
              " 'entrance': <gensim.models.keyedvectors.Vocab at 0x7f9386700390>,\n",
              " 'entreaties': <gensim.models.keyedvectors.Vocab at 0x7f9386709390>,\n",
              " 'equally': <gensim.models.keyedvectors.Vocab at 0x7f9386700b10>,\n",
              " 'estate': <gensim.models.keyedvectors.Vocab at 0x7f9386706d90>,\n",
              " 'ever': <gensim.models.keyedvectors.Vocab at 0x7f93868c7310>,\n",
              " 'every': <gensim.models.keyedvectors.Vocab at 0x7f938677d650>,\n",
              " 'everything': <gensim.models.keyedvectors.Vocab at 0x7f93867062d0>,\n",
              " 'evident': <gensim.models.keyedvectors.Vocab at 0x7f9386754150>,\n",
              " 'evil': <gensim.models.keyedvectors.Vocab at 0x7f9386777210>,\n",
              " 'examine': <gensim.models.keyedvectors.Vocab at 0x7f9386754d50>,\n",
              " 'exertion': <gensim.models.keyedvectors.Vocab at 0x7f9386700950>,\n",
              " 'expense': <gensim.models.keyedvectors.Vocab at 0x7f9386777890>,\n",
              " 'expression': <gensim.models.keyedvectors.Vocab at 0x7f9386706d50>,\n",
              " 'exquisite': <gensim.models.keyedvectors.Vocab at 0x7f9386706150>,\n",
              " 'extensive': <gensim.models.keyedvectors.Vocab at 0x7f938677abd0>,\n",
              " 'extremity': <gensim.models.keyedvectors.Vocab at 0x7f9386706c50>,\n",
              " 'eyes': <gensim.models.keyedvectors.Vocab at 0x7f9386706550>,\n",
              " 'face': <gensim.models.keyedvectors.Vocab at 0x7f9386779b10>,\n",
              " 'far': <gensim.models.keyedvectors.Vocab at 0x7f9386754190>,\n",
              " 'favourable': <gensim.models.keyedvectors.Vocab at 0x7f9386706b50>,\n",
              " 'favourite': <gensim.models.keyedvectors.Vocab at 0x7f9386709710>,\n",
              " 'feel': <gensim.models.keyedvectors.Vocab at 0x7f93867066d0>,\n",
              " 'females': <gensim.models.keyedvectors.Vocab at 0x7f938676a290>,\n",
              " 'find': <gensim.models.keyedvectors.Vocab at 0x7f9386779f10>,\n",
              " 'fine': <gensim.models.keyedvectors.Vocab at 0x7f9386779290>,\n",
              " 'finished': <gensim.models.keyedvectors.Vocab at 0x7f9386706090>,\n",
              " 'five': <gensim.models.keyedvectors.Vocab at 0x7f938676fa10>,\n",
              " 'former': <gensim.models.keyedvectors.Vocab at 0x7f9386709810>,\n",
              " 'forty': <gensim.models.keyedvectors.Vocab at 0x7f93867001d0>,\n",
              " 'found': <gensim.models.keyedvectors.Vocab at 0x7f9386706890>,\n",
              " 'full': <gensim.models.keyedvectors.Vocab at 0x7f9386777450>,\n",
              " 'fully': <gensim.models.keyedvectors.Vocab at 0x7f938676fdd0>,\n",
              " 'garrets': <gensim.models.keyedvectors.Vocab at 0x7f93867772d0>,\n",
              " 'gave': <gensim.models.keyedvectors.Vocab at 0x7f9386709110>,\n",
              " 'gay': <gensim.models.keyedvectors.Vocab at 0x7f9386d93c50>,\n",
              " 'gentleman': <gensim.models.keyedvectors.Vocab at 0x7f9386700f50>,\n",
              " 'give': <gensim.models.keyedvectors.Vocab at 0x7f9386706410>,\n",
              " 'graceful': <gensim.models.keyedvectors.Vocab at 0x7f9386706690>,\n",
              " 'greatly': <gensim.models.keyedvectors.Vocab at 0x7f9386700f10>,\n",
              " 'handsome': <gensim.models.keyedvectors.Vocab at 0x7f93867798d0>,\n",
              " 'happiness': <gensim.models.keyedvectors.Vocab at 0x7f9386706190>,\n",
              " 'hastily': <gensim.models.keyedvectors.Vocab at 0x7f9386777910>,\n",
              " 'heard': <gensim.models.keyedvectors.Vocab at 0x7f9386709950>,\n",
              " 'hopes': <gensim.models.keyedvectors.Vocab at 0x7f9386706950>,\n",
              " 'husband': <gensim.models.keyedvectors.Vocab at 0x7f938675b590>,\n",
              " 'imagine': <gensim.models.keyedvectors.Vocab at 0x7f938675b2d0>,\n",
              " 'impossible': <gensim.models.keyedvectors.Vocab at 0x7f9386706290>,\n",
              " 'impression': <gensim.models.keyedvectors.Vocab at 0x7f938677d190>,\n",
              " 'imprudence': <gensim.models.keyedvectors.Vocab at 0x7f9386779710>,\n",
              " 'indulged': <gensim.models.keyedvectors.Vocab at 0x7f9386709990>,\n",
              " 'indulgence': <gensim.models.keyedvectors.Vocab at 0x7f9386777bd0>,\n",
              " 'insensible': <gensim.models.keyedvectors.Vocab at 0x7f9386779ad0>,\n",
              " 'intention': <gensim.models.keyedvectors.Vocab at 0x7f938677d4d0>,\n",
              " 'joy': <gensim.models.keyedvectors.Vocab at 0x7f938677d150>,\n",
              " 'judgment': <gensim.models.keyedvectors.Vocab at 0x7f9386700f90>,\n",
              " 'justice': <gensim.models.keyedvectors.Vocab at 0x7f9386777ad0>,\n",
              " 'know': <gensim.models.keyedvectors.Vocab at 0x7f9386706750>,\n",
              " 'landlord': <gensim.models.keyedvectors.Vocab at 0x7f9386779410>,\n",
              " 'latter': <gensim.models.keyedvectors.Vocab at 0x7f9386700850>,\n",
              " 'learning': <gensim.models.keyedvectors.Vocab at 0x7f9386706650>,\n",
              " 'led': <gensim.models.keyedvectors.Vocab at 0x7f938675ba10>,\n",
              " 'life': <gensim.models.keyedvectors.Vocab at 0x7f93868c7410>,\n",
              " 'like': <gensim.models.keyedvectors.Vocab at 0x7f9386706790>,\n",
              " 'listening': <gensim.models.keyedvectors.Vocab at 0x7f9386706cd0>,\n",
              " 'literature': <gensim.models.keyedvectors.Vocab at 0x7f9386706ad0>,\n",
              " 'lived': <gensim.models.keyedvectors.Vocab at 0x7f938677d7d0>,\n",
              " 'long': <gensim.models.keyedvectors.Vocab at 0x7f93868c74d0>,\n",
              " 'looking': <gensim.models.keyedvectors.Vocab at 0x7f938675b6d0>,\n",
              " 'lose': <gensim.models.keyedvectors.Vocab at 0x7f93868d2550>,\n",
              " 'loud': <gensim.models.keyedvectors.Vocab at 0x7f9386706310>,\n",
              " 'made': <gensim.models.keyedvectors.Vocab at 0x7f9386709090>,\n",
              " 'make': <gensim.models.keyedvectors.Vocab at 0x7f938676f710>,\n",
              " 'man': <gensim.models.keyedvectors.Vocab at 0x7f938677ad10>,\n",
              " 'marriage': <gensim.models.keyedvectors.Vocab at 0x7f938675b710>,\n",
              " 'marry': <gensim.models.keyedvectors.Vocab at 0x7f9386706990>,\n",
              " 'match': <gensim.models.keyedvectors.Vocab at 0x7f9386700d90>,\n",
              " 'matters': <gensim.models.keyedvectors.Vocab at 0x7f9386700e10>,\n",
              " 'mean': <gensim.models.keyedvectors.Vocab at 0x7f9386777d10>,\n",
              " 'means': <gensim.models.keyedvectors.Vocab at 0x7f938677d790>,\n",
              " 'men': <gensim.models.keyedvectors.Vocab at 0x7f93867060d0>,\n",
              " 'message': <gensim.models.keyedvectors.Vocab at 0x7f93868f6450>,\n",
              " 'met': <gensim.models.keyedvectors.Vocab at 0x7f938677a750>,\n",
              " 'middleton': <gensim.models.keyedvectors.Vocab at 0x7f9386709410>,\n",
              " 'middletons': <gensim.models.keyedvectors.Vocab at 0x7f9386709250>,\n",
              " 'mile': <gensim.models.keyedvectors.Vocab at 0x7f9386779f90>,\n",
              " 'minuter': <gensim.models.keyedvectors.Vocab at 0x7f938675bfd0>,\n",
              " 'moderate': <gensim.models.keyedvectors.Vocab at 0x7f9386754f10>,\n",
              " 'money': <gensim.models.keyedvectors.Vocab at 0x7f9386709910>,\n",
              " 'moreover': <gensim.models.keyedvectors.Vocab at 0x7f9386779310>,\n",
              " 'motionless': <gensim.models.keyedvectors.Vocab at 0x7f938677ad90>,\n",
              " 'mr': <gensim.models.keyedvectors.Vocab at 0x7f93867009d0>,\n",
              " 'mrs': <gensim.models.keyedvectors.Vocab at 0x7f9386706b10>,\n",
              " 'name': <gensim.models.keyedvectors.Vocab at 0x7f9386700d50>,\n",
              " 'natural': <gensim.models.keyedvectors.Vocab at 0x7f9386777510>,\n",
              " 'nearer': <gensim.models.keyedvectors.Vocab at 0x7f9386706e50>,\n",
              " 'neat': <gensim.models.keyedvectors.Vocab at 0x7f93867090d0>,\n",
              " 'need': <gensim.models.keyedvectors.Vocab at 0x7f93868d22d0>,\n",
              " 'neglected': <gensim.models.keyedvectors.Vocab at 0x7f93867061d0>,\n",
              " 'new': <gensim.models.keyedvectors.Vocab at 0x7f9386706a90>,\n",
              " 'objection': <gensim.models.keyedvectors.Vocab at 0x7f93867096d0>,\n",
              " 'occasional': <gensim.models.keyedvectors.Vocab at 0x7f938675b090>,\n",
              " 'offending': <gensim.models.keyedvectors.Vocab at 0x7f9386706bd0>,\n",
              " 'offering': <gensim.models.keyedvectors.Vocab at 0x7f938675b690>,\n",
              " 'oh': <gensim.models.keyedvectors.Vocab at 0x7f938677d710>,\n",
              " 'old': <gensim.models.keyedvectors.Vocab at 0x7f93868f62d0>,\n",
              " 'open': <gensim.models.keyedvectors.Vocab at 0x7f93867063d0>,\n",
              " 'opinions': <gensim.models.keyedvectors.Vocab at 0x7f93867540d0>,\n",
              " 'otherwise': <gensim.models.keyedvectors.Vocab at 0x7f93868f6150>,\n",
              " 'outlived': <gensim.models.keyedvectors.Vocab at 0x7f938675b390>,\n",
              " 'outweigh': <gensim.models.keyedvectors.Vocab at 0x7f9386779ed0>,\n",
              " 'painful': <gensim.models.keyedvectors.Vocab at 0x7f938675b7d0>,\n",
              " 'park': <gensim.models.keyedvectors.Vocab at 0x7f9386700bd0>,\n",
              " 'parlors': <gensim.models.keyedvectors.Vocab at 0x7f938676a690>,\n",
              " 'part': <gensim.models.keyedvectors.Vocab at 0x7f93868d2710>,\n",
              " 'peculiar': <gensim.models.keyedvectors.Vocab at 0x7f938675be50>,\n",
              " 'plan': <gensim.models.keyedvectors.Vocab at 0x7f9386706710>,\n",
              " 'pleased': <gensim.models.keyedvectors.Vocab at 0x7f93868d2790>,\n",
              " 'pleasure': <gensim.models.keyedvectors.Vocab at 0x7f938676a450>,\n",
              " 'possession': <gensim.models.keyedvectors.Vocab at 0x7f9386779050>,\n",
              " 'power': <gensim.models.keyedvectors.Vocab at 0x7f9386709850>,\n",
              " 'prepare': <gensim.models.keyedvectors.Vocab at 0x7f9386777750>,\n",
              " 'prevent': <gensim.models.keyedvectors.Vocab at 0x7f938676a4d0>,\n",
              " 'private': <gensim.models.keyedvectors.Vocab at 0x7f938677a110>,\n",
              " 'projection': <gensim.models.keyedvectors.Vocab at 0x7f9386777f10>,\n",
              " 'promotion': <gensim.models.keyedvectors.Vocab at 0x7f938677d210>,\n",
              " 'propriety': <gensim.models.keyedvectors.Vocab at 0x7f938677a150>,\n",
              " 'prosperous': <gensim.models.keyedvectors.Vocab at 0x7f9386709310>,\n",
              " 'provision': <gensim.models.keyedvectors.Vocab at 0x7f938677d5d0>,\n",
              " 'pure': <gensim.models.keyedvectors.Vocab at 0x7f93867067d0>,\n",
              " 'put': <gensim.models.keyedvectors.Vocab at 0x7f9386700a10>,\n",
              " 'quiet': <gensim.models.keyedvectors.Vocab at 0x7f938677dc90>,\n",
              " 'quitting': <gensim.models.keyedvectors.Vocab at 0x7f9386709550>,\n",
              " 'rank': <gensim.models.keyedvectors.Vocab at 0x7f938676abd0>,\n",
              " 'remainder': <gensim.models.keyedvectors.Vocab at 0x7f938677a350>,\n",
              " 'remarkably': <gensim.models.keyedvectors.Vocab at 0x7f9386706a50>,\n",
              " 'remember': <gensim.models.keyedvectors.Vocab at 0x7f9386706050>,\n",
              " 'rendered': <gensim.models.keyedvectors.Vocab at 0x7f9386754550>,\n",
              " 'rent': <gensim.models.keyedvectors.Vocab at 0x7f9386706390>,\n",
              " 'resolution': <gensim.models.keyedvectors.Vocab at 0x7f93867776d0>,\n",
              " 'resolving': <gensim.models.keyedvectors.Vocab at 0x7f938677a950>,\n",
              " 'returned': <gensim.models.keyedvectors.Vocab at 0x7f9386709510>,\n",
              " 'said': <gensim.models.keyedvectors.Vocab at 0x7f9386779690>,\n",
              " 'saw': <gensim.models.keyedvectors.Vocab at 0x7f9386700810>,\n",
              " 'say': <gensim.models.keyedvectors.Vocab at 0x7f938677a1d0>,\n",
              " 'scarcely': <gensim.models.keyedvectors.Vocab at 0x7f9386779650>,\n",
              " 'screened': <gensim.models.keyedvectors.Vocab at 0x7f9386779550>,\n",
              " 'see': <gensim.models.keyedvectors.Vocab at 0x7f9386706810>,\n",
              " 'seeing': <gensim.models.keyedvectors.Vocab at 0x7f9386706ed0>,\n",
              " 'seemed': <gensim.models.keyedvectors.Vocab at 0x7f9386706e90>,\n",
              " 'sense': <gensim.models.keyedvectors.Vocab at 0x7f938676ffd0>,\n",
              " 'sensible': <gensim.models.keyedvectors.Vocab at 0x7f938676a650>,\n",
              " 'sent': <gensim.models.keyedvectors.Vocab at 0x7f9386706490>,\n",
              " 'separate': <gensim.models.keyedvectors.Vocab at 0x7f9386779a90>,\n",
              " 'sex': <gensim.models.keyedvectors.Vocab at 0x7f9386754210>,\n",
              " 'shameless': <gensim.models.keyedvectors.Vocab at 0x7f938677d890>,\n",
              " 'shewing': <gensim.models.keyedvectors.Vocab at 0x7f9386777090>,\n",
              " 'show': <gensim.models.keyedvectors.Vocab at 0x7f9386709150>,\n",
              " 'showing': <gensim.models.keyedvectors.Vocab at 0x7f9386700fd0>,\n",
              " 'sincerity': <gensim.models.keyedvectors.Vocab at 0x7f9386772450>,\n",
              " 'sir': <gensim.models.keyedvectors.Vocab at 0x7f93867068d0>,\n",
              " 'six': <gensim.models.keyedvectors.Vocab at 0x7f9386777a90>,\n",
              " 'sixteen': <gensim.models.keyedvectors.Vocab at 0x7f938675b210>,\n",
              " 'small': <gensim.models.keyedvectors.Vocab at 0x7f9386754a10>,\n",
              " 'smiling': <gensim.models.keyedvectors.Vocab at 0x7f9386754750>,\n",
              " 'snug': <gensim.models.keyedvectors.Vocab at 0x7f9386709190>,\n",
              " 'society': <gensim.models.keyedvectors.Vocab at 0x7f93868f66d0>,\n",
              " 'solid': <gensim.models.keyedvectors.Vocab at 0x7f93867548d0>,\n",
              " 'son': <gensim.models.keyedvectors.Vocab at 0x7f9386777490>,\n",
              " 'song': <gensim.models.keyedvectors.Vocab at 0x7f9386706510>,\n",
              " 'songs': <gensim.models.keyedvectors.Vocab at 0x7f938674fe50>,\n",
              " 'sons': <gensim.models.keyedvectors.Vocab at 0x7f938677d250>,\n",
              " 'speaking': <gensim.models.keyedvectors.Vocab at 0x7f9386706fd0>,\n",
              " 'sportsman': <gensim.models.keyedvectors.Vocab at 0x7f9386706b90>,\n",
              " 'sportsmen': <gensim.models.keyedvectors.Vocab at 0x7f9386709450>,\n",
              " 'spot': <gensim.models.keyedvectors.Vocab at 0x7f93867064d0>,\n",
              " 'state': <gensim.models.keyedvectors.Vocab at 0x7f93867008d0>,\n",
              " 'steepest': <gensim.models.keyedvectors.Vocab at 0x7f9386706f90>,\n",
              " 'still': <gensim.models.keyedvectors.Vocab at 0x7f9386754a90>,\n",
              " 'stimulated': <gensim.models.keyedvectors.Vocab at 0x7f938677aad0>,\n",
              " 'striking': <gensim.models.keyedvectors.Vocab at 0x7f938677ab50>,\n",
              " 'stuff': <gensim.models.keyedvectors.Vocab at 0x7f938676fd10>,\n",
              " 'subject': <gensim.models.keyedvectors.Vocab at 0x7f938675b650>,\n",
              " 'sufficient': <gensim.models.keyedvectors.Vocab at 0x7f938677a390>,\n",
              " 'supported': <gensim.models.keyedvectors.Vocab at 0x7f9386706c10>,\n",
              " 'sure': <gensim.models.keyedvectors.Vocab at 0x7f9386777d50>,\n",
              " 'ten': <gensim.models.keyedvectors.Vocab at 0x7f9386754490>,\n",
              " 'tended': <gensim.models.keyedvectors.Vocab at 0x7f9386706dd0>,\n",
              " 'think': <gensim.models.keyedvectors.Vocab at 0x7f9386706910>,\n",
              " 'thirty': <gensim.models.keyedvectors.Vocab at 0x7f9386706f10>,\n",
              " 'throwing': <gensim.models.keyedvectors.Vocab at 0x7f9386706110>,\n",
              " 'till': <gensim.models.keyedvectors.Vocab at 0x7f938677d110>,\n",
              " 'tore': <gensim.models.keyedvectors.Vocab at 0x7f93867091d0>,\n",
              " 'towards': <gensim.models.keyedvectors.Vocab at 0x7f938677a890>,\n",
              " 'travelling': <gensim.models.keyedvectors.Vocab at 0x7f93867092d0>,\n",
              " 'two': <gensim.models.keyedvectors.Vocab at 0x7f9386754e10>,\n",
              " 'unaffected': <gensim.models.keyedvectors.Vocab at 0x7f938676f150>,\n",
              " 'unpleasing': <gensim.models.keyedvectors.Vocab at 0x7f938675b8d0>,\n",
              " 'unreserved': <gensim.models.keyedvectors.Vocab at 0x7f9386779b50>,\n",
              " 'upon': <gensim.models.keyedvectors.Vocab at 0x7f9386706450>,\n",
              " 'vicinity': <gensim.models.keyedvectors.Vocab at 0x7f93867002d0>,\n",
              " 'visit': <gensim.models.keyedvectors.Vocab at 0x7f9386709890>,\n",
              " 'waited': <gensim.models.keyedvectors.Vocab at 0x7f9386700d10>,\n",
              " 'waiting': <gensim.models.keyedvectors.Vocab at 0x7f938676a590>,\n",
              " 'want': <gensim.models.keyedvectors.Vocab at 0x7f93868d2d90>,\n",
              " 'weather': <gensim.models.keyedvectors.Vocab at 0x7f9386754510>,\n",
              " 'whence': <gensim.models.keyedvectors.Vocab at 0x7f9386706f50>,\n",
              " 'whole': <gensim.models.keyedvectors.Vocab at 0x7f9386700250>,\n",
              " 'whose': <gensim.models.keyedvectors.Vocab at 0x7f938676fad0>,\n",
              " 'widen': <gensim.models.keyedvectors.Vocab at 0x7f9386754850>,\n",
              " 'windows': <gensim.models.keyedvectors.Vocab at 0x7f9386777dd0>,\n",
              " 'wisdom': <gensim.models.keyedvectors.Vocab at 0x7f9386700e50>,\n",
              " 'wise': <gensim.models.keyedvectors.Vocab at 0x7f9386700e90>,\n",
              " 'wonder': <gensim.models.keyedvectors.Vocab at 0x7f9386709750>,\n",
              " 'yet': <gensim.models.keyedvectors.Vocab at 0x7f9386754310>}"
            ]
          },
          "metadata": {},
          "execution_count": 16
        }
      ]
    },
    {
      "cell_type": "code",
      "source": [
        "vector = model.wv['solid']\n",
        "vector"
      ],
      "metadata": {
        "colab": {
          "base_uri": "https://localhost:8080/"
        },
        "id": "hFvzhTmULL1n",
        "outputId": "41b0651a-7957-485f-b949-1736975b52cb"
      },
      "execution_count": null,
      "outputs": [
        {
          "output_type": "execute_result",
          "data": {
            "text/plain": [
              "array([-0.00077582,  0.00060902, -0.0049789 , -0.00049653,  0.00471851,\n",
              "       -0.00262655, -0.00407211, -0.00335906,  0.002447  ,  0.00253495,\n",
              "       -0.00369366, -0.00268574, -0.00218951, -0.00163593, -0.00199846,\n",
              "       -0.00376415, -0.00261531,  0.00034957, -0.00118618, -0.00051782,\n",
              "       -0.00408011, -0.00485918,  0.00153915,  0.00128473, -0.00399924,\n",
              "       -0.0018838 , -0.00098037, -0.00081794, -0.00264825, -0.00125012,\n",
              "        0.00489903, -0.00056377, -0.00299736, -0.00016768,  0.00133085,\n",
              "       -0.00151134,  0.00046204,  0.00216796,  0.00135732, -0.00286299,\n",
              "        0.00472264, -0.00470716,  0.00189271,  0.00227893,  0.00052701,\n",
              "       -0.00341269,  0.00273871,  0.00363508, -0.00175484,  0.00110842,\n",
              "        0.00466978, -0.00169041, -0.00256294,  0.00411896,  0.00049222,\n",
              "        0.00244783,  0.00190421, -0.00190429,  0.00481185, -0.0001954 ,\n",
              "       -0.00273539,  0.00194128,  0.00334839, -0.00026213, -0.00163636,\n",
              "        0.00164984,  0.00052611,  0.00339823,  0.00227207, -0.00488849,\n",
              "        0.00108489, -0.0048906 , -0.00465126,  0.00436518, -0.00139228,\n",
              "        0.00399763, -0.00134992, -0.00444598,  0.00355107, -0.00141342,\n",
              "       -0.0040755 ,  0.00369861, -0.0017265 ,  0.00487762,  0.00291526,\n",
              "       -0.00244316,  0.00424445,  0.00303904, -0.00111515,  0.00421534,\n",
              "       -0.00032189,  0.00324084,  0.00341285,  0.00103954, -0.00178371,\n",
              "        0.00341311,  0.00228108, -0.00202934, -0.00327331,  0.0023745 ],\n",
              "      dtype=float32)"
            ]
          },
          "metadata": {},
          "execution_count": 17
        }
      ]
    },
    {
      "cell_type": "code",
      "source": [
        "similar_word = model.wv.most_similar('solid')\n",
        "similar_word"
      ],
      "metadata": {
        "colab": {
          "base_uri": "https://localhost:8080/"
        },
        "id": "e06-rqlWdz4D",
        "outputId": "04954a55-7e19-46fd-d0fd-349d1ca2d16e"
      },
      "execution_count": null,
      "outputs": [
        {
          "output_type": "execute_result",
          "data": {
            "text/plain": [
              "[('wonder', 0.33136019110679626),\n",
              " ('mrs', 0.2955707907676697),\n",
              " ('resolution', 0.2772327959537506),\n",
              " ('boisterous', 0.25983723998069763),\n",
              " ('agreeable', 0.21862640976905823),\n",
              " ('throwing', 0.21356827020645142),\n",
              " ('former', 0.19656823575496674),\n",
              " ('outlived', 0.19393789768218994),\n",
              " ('child', 0.186416357755661),\n",
              " ('loud', 0.18584832549095154)]"
            ]
          },
          "metadata": {},
          "execution_count": 19
        }
      ]
    },
    {
      "cell_type": "code",
      "source": [
        ""
      ],
      "metadata": {
        "id": "2aAREuRcd7VR"
      },
      "execution_count": null,
      "outputs": []
    }
  ]
}