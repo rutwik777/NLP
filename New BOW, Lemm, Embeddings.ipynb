{
 "cells": [
  {
   "cell_type": "code",
   "execution_count": 1,
   "id": "bdc2a6f4",
   "metadata": {},
   "outputs": [
    {
     "name": "stderr",
     "output_type": "stream",
     "text": [
      "[nltk_data] Downloading package punkt to\n",
      "[nltk_data]     C:\\Users\\rutwi\\AppData\\Roaming\\nltk_data...\n",
      "[nltk_data]   Package punkt is already up-to-date!\n"
     ]
    },
    {
     "data": {
      "text/plain": [
       "True"
      ]
     },
     "execution_count": 1,
     "metadata": {},
     "output_type": "execute_result"
    }
   ],
   "source": [
    "import nltk\n",
    "nltk.download('punkt')"
   ]
  },
  {
   "cell_type": "code",
   "execution_count": 55,
   "id": "55444e02",
   "metadata": {},
   "outputs": [
    {
     "data": {
      "text/plain": [
       "'Ram is a good boy. Lizzy is a good girl. Radcliff camera is a beautiful historical buliding. This has been a wonderful evening'"
      ]
     },
     "execution_count": 55,
     "metadata": {},
     "output_type": "execute_result"
    }
   ],
   "source": [
    "para = \"Ram is a good boy. Lizzy is a good girl. Radcliff camera is a beautiful historical buliding. This has been a wonderful evening\"\n",
    "para"
   ]
  },
  {
   "cell_type": "code",
   "execution_count": 56,
   "id": "4630e90e",
   "metadata": {},
   "outputs": [
    {
     "data": {
      "text/plain": [
       "['Ram is a good boy.',\n",
       " 'Lizzy is a good girl.',\n",
       " 'Radcliff camera is a beautiful historical buliding.',\n",
       " 'This has been a wonderful evening']"
      ]
     },
     "execution_count": 56,
     "metadata": {},
     "output_type": "execute_result"
    }
   ],
   "source": [
    "sentenses = nltk.sent_tokenize(para)\n",
    "sentenses"
   ]
  },
  {
   "cell_type": "code",
   "execution_count": 57,
   "id": "3b500893",
   "metadata": {},
   "outputs": [
    {
     "data": {
      "text/plain": [
       "['Ram',\n",
       " 'is',\n",
       " 'a',\n",
       " 'good',\n",
       " 'boy',\n",
       " '.',\n",
       " 'Lizzy',\n",
       " 'is',\n",
       " 'a',\n",
       " 'good',\n",
       " 'girl',\n",
       " '.',\n",
       " 'Radcliff',\n",
       " 'camera',\n",
       " 'is',\n",
       " 'a',\n",
       " 'beautiful',\n",
       " 'historical',\n",
       " 'buliding',\n",
       " '.',\n",
       " 'This',\n",
       " 'has',\n",
       " 'been',\n",
       " 'a',\n",
       " 'wonderful',\n",
       " 'evening']"
      ]
     },
     "execution_count": 57,
     "metadata": {},
     "output_type": "execute_result"
    }
   ],
   "source": [
    "words = nltk.word_tokenize(para)\n",
    "words"
   ]
  },
  {
   "cell_type": "code",
   "execution_count": 58,
   "id": "dedd7a21",
   "metadata": {},
   "outputs": [],
   "source": [
    "from sklearn.feature_extraction.text import CountVectorizer\n",
    "cv = CountVectorizer()"
   ]
  },
  {
   "cell_type": "code",
   "execution_count": 59,
   "id": "798ebe69",
   "metadata": {},
   "outputs": [
    {
     "data": {
      "text/plain": [
       "['Ram is a good boy .',\n",
       " 'Lizzy is a good girl .',\n",
       " 'Radcliff camera is a beautiful historical buliding .',\n",
       " 'This has been a wonderful evening']"
      ]
     },
     "execution_count": 59,
     "metadata": {},
     "output_type": "execute_result"
    }
   ],
   "source": [
    "corpus = []\n",
    "for i in range(len(sentenses)):\n",
    "  bagofwords = nltk.word_tokenize(sentenses[i])\n",
    "  bagofwords = ' '.join(bagofwords)\n",
    "  corpus.append(bagofwords)\n",
    "corpus"
   ]
  },
  {
   "cell_type": "code",
   "execution_count": 60,
   "id": "375d778a",
   "metadata": {},
   "outputs": [
    {
     "data": {
      "text/plain": [
       "array([[0, 0, 1, 0, 0, 0, 0, 1, 0, 0, 1, 0, 0, 1, 0, 0],\n",
       "       [0, 0, 0, 0, 0, 0, 1, 1, 0, 0, 1, 1, 0, 0, 0, 0],\n",
       "       [1, 0, 0, 1, 1, 0, 0, 0, 0, 1, 1, 0, 1, 0, 0, 0],\n",
       "       [0, 1, 0, 0, 0, 1, 0, 0, 1, 0, 0, 0, 0, 0, 1, 1]], dtype=int64)"
      ]
     },
     "execution_count": 60,
     "metadata": {},
     "output_type": "execute_result"
    }
   ],
   "source": [
    "bagofwords_final = cv.fit_transform(corpus).toarray()\n",
    "bagofwords_final"
   ]
  },
  {
   "cell_type": "markdown",
   "id": "fe667c0e",
   "metadata": {},
   "source": [
    "### Lemmatisation"
   ]
  },
  {
   "cell_type": "code",
   "execution_count": 61,
   "id": "df620779",
   "metadata": {},
   "outputs": [
    {
     "name": "stderr",
     "output_type": "stream",
     "text": [
      "[nltk_data] Downloading package wordnet to\n",
      "[nltk_data]     C:\\Users\\rutwi\\AppData\\Roaming\\nltk_data...\n",
      "[nltk_data]   Package wordnet is already up-to-date!\n",
      "[nltk_data] Downloading package omw-1.4 to\n",
      "[nltk_data]     C:\\Users\\rutwi\\AppData\\Roaming\\nltk_data...\n",
      "[nltk_data]   Package omw-1.4 is already up-to-date!\n"
     ]
    },
    {
     "data": {
      "text/plain": [
       "True"
      ]
     },
     "execution_count": 61,
     "metadata": {},
     "output_type": "execute_result"
    }
   ],
   "source": [
    "from nltk.stem import WordNetLemmatizer\n",
    "from nltk.corpus import stopwords\n",
    "nltk.download('wordnet')\n",
    "nltk.download('omw-1.4')"
   ]
  },
  {
   "cell_type": "code",
   "execution_count": 62,
   "id": "9cc7828f",
   "metadata": {},
   "outputs": [],
   "source": [
    "lemmetiser = WordNetLemmatizer()"
   ]
  },
  {
   "cell_type": "code",
   "execution_count": 63,
   "id": "0c19025c",
   "metadata": {},
   "outputs": [
    {
     "data": {
      "text/plain": [
       "['Ram is a good boy.',\n",
       " 'Lizzy is a good girl.',\n",
       " 'Radcliff camera is a beautiful historical buliding.',\n",
       " 'This has been a wonderful evening']"
      ]
     },
     "execution_count": 63,
     "metadata": {},
     "output_type": "execute_result"
    }
   ],
   "source": [
    "sentenses"
   ]
  },
  {
   "cell_type": "code",
   "execution_count": 64,
   "id": "5be8ae4a",
   "metadata": {},
   "outputs": [],
   "source": [
    "lemmed_sentences = sentenses\n",
    "for i in range(len(sentenses)):\n",
    "  lemmed_words = nltk.word_tokenize(sentenses[i])\n",
    "  lemmed_words = [lemmetiser.lemmatize(words) for words in lemmed_words if words not in set(stopwords.words('english'))]\n",
    "  lemmed_sentences[i] = ' '.join(lemmed_words)"
   ]
  },
  {
   "cell_type": "code",
   "execution_count": 66,
   "id": "ed526e3e",
   "metadata": {},
   "outputs": [
    {
     "data": {
      "text/plain": [
       "['Ram good boy .',\n",
       " 'Lizzy good girl .',\n",
       " 'Radcliff camera beautiful historical buliding .',\n",
       " 'This wonderful evening']"
      ]
     },
     "execution_count": 66,
     "metadata": {},
     "output_type": "execute_result"
    }
   ],
   "source": [
    "lemmed_sentences"
   ]
  },
  {
   "cell_type": "markdown",
   "id": "d42f902c",
   "metadata": {},
   "source": [
    "### Stemming"
   ]
  },
  {
   "cell_type": "code",
   "execution_count": 67,
   "id": "4672d601",
   "metadata": {},
   "outputs": [],
   "source": [
    "from nltk.stem import PorterStemmer\n",
    "from nltk.corpus import stopwords"
   ]
  },
  {
   "cell_type": "code",
   "execution_count": 68,
   "id": "c499ffd1",
   "metadata": {},
   "outputs": [],
   "source": [
    "stemmer = PorterStemmer()"
   ]
  },
  {
   "cell_type": "code",
   "execution_count": 69,
   "id": "e1e5768f",
   "metadata": {},
   "outputs": [],
   "source": [
    "stemmed_sentences = sentenses\n",
    "for i in range(len(sentenses)):\n",
    "  stemmed_words = nltk.word_tokenize(sentenses[i])\n",
    "  stemmed_words = [stemmer.stem(words) for words in stemmed_words if words not in set(stopwords.words('english'))]\n",
    "  stemmed_sentences[i] = ' '.join(stemmed_words)"
   ]
  },
  {
   "cell_type": "code",
   "execution_count": 71,
   "id": "6c83e678",
   "metadata": {},
   "outputs": [
    {
     "data": {
      "text/plain": [
       "['ram good boy .',\n",
       " 'lizzi good girl .',\n",
       " 'radcliff camera beauti histor bulid .',\n",
       " 'thi wonder even']"
      ]
     },
     "execution_count": 71,
     "metadata": {},
     "output_type": "execute_result"
    }
   ],
   "source": [
    "stemmed_sentences"
   ]
  },
  {
   "cell_type": "markdown",
   "id": "63b826e3",
   "metadata": {},
   "source": [
    "### Word 2 Vector Representation"
   ]
  },
  {
   "cell_type": "code",
   "execution_count": 85,
   "id": "dfe613c2",
   "metadata": {},
   "outputs": [],
   "source": [
    "import nltk\n",
    "from gensim.models import Word2Vec\n",
    "from nltk.corpus import stopwords\n",
    "import re"
   ]
  },
  {
   "cell_type": "code",
   "execution_count": 86,
   "id": "df71f67a",
   "metadata": {
    "scrolled": true
   },
   "outputs": [
    {
     "data": {
      "text/plain": [
       "[['Ram', 'is', 'a', 'good', 'boy', '.'],\n",
       " ['Lizzy', 'is', 'a', 'good', 'girl', '.'],\n",
       " ['Radcliff', 'camera', 'is', 'a', 'beautiful', 'historical', 'buliding', '.'],\n",
       " ['This', 'has', 'been', 'a', 'wonderful', 'evening']]"
      ]
     },
     "execution_count": 86,
     "metadata": {},
     "output_type": "execute_result"
    }
   ],
   "source": [
    "sentenses_1 = nltk.sent_tokenize(para)\n",
    "sentenses_1 = [nltk.word_tokenize(word) for word in sentenses_1]\n",
    "sentenses_1"
   ]
  },
  {
   "cell_type": "code",
   "execution_count": 87,
   "id": "025b5b24",
   "metadata": {},
   "outputs": [],
   "source": [
    "model = Word2Vec(sentenses_1, min_count=1)"
   ]
  },
  {
   "cell_type": "code",
   "execution_count": 88,
   "id": "1fd6e670",
   "metadata": {},
   "outputs": [
    {
     "data": {
      "text/plain": [
       "{'a': 0,\n",
       " 'is': 1,\n",
       " '.': 2,\n",
       " 'good': 3,\n",
       " 'evening': 4,\n",
       " 'wonderful': 5,\n",
       " 'boy': 6,\n",
       " 'Lizzy': 7,\n",
       " 'girl': 8,\n",
       " 'Radcliff': 9,\n",
       " 'camera': 10,\n",
       " 'beautiful': 11,\n",
       " 'historical': 12,\n",
       " 'buliding': 13,\n",
       " 'This': 14,\n",
       " 'has': 15,\n",
       " 'been': 16,\n",
       " 'Ram': 17}"
      ]
     },
     "execution_count": 88,
     "metadata": {},
     "output_type": "execute_result"
    }
   ],
   "source": [
    "words = model.wv.key_to_index\n",
    "words"
   ]
  },
  {
   "cell_type": "code",
   "execution_count": 89,
   "id": "4d0edf5d",
   "metadata": {},
   "outputs": [
    {
     "data": {
      "text/plain": [
       "array([-8.2426788e-03,  9.2993546e-03, -1.9766092e-04, -1.9672776e-03,\n",
       "        4.6036290e-03, -4.0953159e-03,  2.7431131e-03,  6.9399667e-03,\n",
       "        6.0654259e-03, -7.5107957e-03,  9.3823504e-03,  4.6718074e-03,\n",
       "        3.9661191e-03, -6.2435055e-03,  8.4599778e-03, -2.1501661e-03,\n",
       "        8.8251876e-03, -5.3620026e-03, -8.1294207e-03,  6.8245577e-03,\n",
       "        1.6711927e-03, -2.1985101e-03,  9.5135998e-03,  9.4938539e-03,\n",
       "       -9.7740479e-03,  2.5052286e-03,  6.1566923e-03,  3.8724565e-03,\n",
       "        2.0227861e-03,  4.3050051e-04,  6.7363022e-04, -3.8206363e-03,\n",
       "       -7.1402504e-03, -2.0888734e-03,  3.9238976e-03,  8.8186832e-03,\n",
       "        9.2591504e-03, -5.9759379e-03, -9.4026709e-03,  9.7643761e-03,\n",
       "        3.4297847e-03,  5.1661157e-03,  6.2823440e-03, -2.8042626e-03,\n",
       "        7.3227026e-03,  2.8302716e-03,  2.8710032e-03, -2.3803711e-03,\n",
       "       -3.1282497e-03, -2.3701428e-03,  4.2764354e-03,  7.6057913e-05,\n",
       "       -9.5842788e-03, -9.6655441e-03, -6.1481954e-03, -1.2856961e-04,\n",
       "        1.9974159e-03,  9.4319675e-03,  5.5843499e-03, -4.2906976e-03,\n",
       "        2.7831554e-04,  4.9643586e-03,  7.6983096e-03, -1.1442233e-03,\n",
       "        4.3234206e-03, -5.8143805e-03, -8.0419064e-04,  8.1000496e-03,\n",
       "       -2.3600650e-03, -9.6634552e-03,  5.7792594e-03, -3.9298222e-03,\n",
       "       -1.2228728e-03,  9.9805165e-03, -2.2563506e-03, -4.7570658e-03,\n",
       "       -5.3293873e-03,  6.9808890e-03, -5.7088733e-03,  2.1136617e-03,\n",
       "       -5.2556610e-03,  6.1207130e-03,  4.3573068e-03,  2.6063537e-03,\n",
       "       -1.4910841e-03, -2.7460647e-03,  8.9929365e-03,  5.2157734e-03,\n",
       "       -2.1625208e-03, -9.4703101e-03, -7.4260519e-03, -1.0637427e-03,\n",
       "       -7.9494715e-04, -2.5629092e-03,  9.6827196e-03, -4.5852186e-04,\n",
       "        5.8737611e-03, -7.4475883e-03, -2.5060750e-03, -5.5498648e-03],\n",
       "      dtype=float32)"
      ]
     },
     "execution_count": 89,
     "metadata": {},
     "output_type": "execute_result"
    }
   ],
   "source": [
    "vector = model.wv['good']\n",
    "vector"
   ]
  },
  {
   "cell_type": "code",
   "execution_count": null,
   "id": "a9c16d4f",
   "metadata": {},
   "outputs": [],
   "source": []
  }
 ],
 "metadata": {
  "kernelspec": {
   "display_name": "Python 3",
   "language": "python",
   "name": "python3"
  },
  "language_info": {
   "codemirror_mode": {
    "name": "ipython",
    "version": 3
   },
   "file_extension": ".py",
   "mimetype": "text/x-python",
   "name": "python",
   "nbconvert_exporter": "python",
   "pygments_lexer": "ipython3",
   "version": "3.8.8"
  }
 },
 "nbformat": 4,
 "nbformat_minor": 5
}
